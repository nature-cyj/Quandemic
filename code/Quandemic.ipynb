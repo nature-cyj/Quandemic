{
 "cells": [
  {
   "cell_type": "code",
   "execution_count": 9,
   "metadata": {},
   "outputs": [],
   "source": [
    "import pennylane as qml\n",
    "from pennylane import numpy as np"
   ]
  },
  {
   "cell_type": "code",
   "execution_count": 10,
   "metadata": {},
   "outputs": [],
   "source": [
    "#GAME CODE\n",
    "def game(nx_qubits,ny_qubits,level,ini,state=[],game_card={}):\n",
    "    if ini==-1:\n",
    "        dev1 = qml.device(\"default.qubit\",wires=range(nx_qubits*ny_qubits))\n",
    "        @qml.qnode(dev1)\n",
    "        def ini_circuit():\n",
    "            n_total = nx_qubits*ny_qubits\n",
    "            coords = np.random.choice(n_total,level, replace=False)\n",
    "            for coord in coords:\n",
    "                qml.PauliX(wires=coord)\n",
    "            return qml.state()\n",
    "        return ini_circuit()\n",
    "    elif ini==-2: \n",
    "        dev2 = qml.device(\"default.qubit\",wires=range(nx_qubits*ny_qubits))\n",
    "        @qml.qnode(dev2)\n",
    "        def intermediate_circuit():\n",
    "            qml.AmplitudeEmbedding(state, wires=range(nx_qubits*ny_qubits))\n",
    "            for swap in game_card['SWAP']:\n",
    "                qml.SWAP(wires=list(map(int,swap.split(','))))\n",
    "            for hospital in game_card['hospital']:\n",
    "                if int(hospital) == (nx_qubits*ny_qubits-1)/2:\n",
    "                    print(\"Welcome to the most dangerous, but efficacious hospital.\")\n",
    "                    qml.PauliX(wires=hospital)\n",
    "                else:\n",
    "                    print(\"Here, this is a medicine. But I'm not sure it may help you heal completely...\")\n",
    "                    qml.Hadamard(wires=hospital)\n",
    "            return qml.state()\n",
    "        return intermediate_circuit()\n",
    "    elif ini == -3:\n",
    "        dev3 = qml.device(\"default.qubit\",shots=1,wires=range(nx_qubits*ny_qubits))\n",
    "        @qml.qnode(dev3)\n",
    "        def end_circuit():\n",
    "            qml.AmplitudeEmbedding(state, wires=range(nx_qubits*ny_qubits))\n",
    "            return qml.sample()\n",
    "        final_pcr = end_circuit()\n",
    "        if 1 not in final_pcr:\n",
    "            return 'All citizens are cured!!! YOU WIN'\n",
    "        else:\n",
    "            return 'Virus is not disappeared. YOU LOSE'\n",
    "    elif ini == -4:\n",
    "        dev6 = qml.device(\"default.qubit\",shots=1,wires=range(nx_qubits*ny_qubits))\n",
    "        @qml.qnode(dev6)\n",
    "        def total_survey_circuit():\n",
    "            qml.AmplitudeEmbedding(state, wires=range(nx_qubits*ny_qubits))\n",
    "            return qml.sample()\n",
    "        dev7 = qml.device(\"default.qubit\",wires=range(nx_qubits*ny_qubits))\n",
    "        @qml.qnode(dev7)\n",
    "        def after_survey(total_survey):\n",
    "            print(\"The entire PCR test result is:\",total_survey)\n",
    "            qml.BasisState(total_survey, wires=range(nx_qubits*ny_qubits))\n",
    "            return qml.state()\n",
    "        return after_survey(total_survey_circuit())\n",
    "    else:\n",
    "        dev4 = qml.device(\"default.qubit\",shots=1,wires=range(nx_qubits*ny_qubits))\n",
    "        @qml.qnode(dev4)\n",
    "        def measure_circuit(issample):\n",
    "            qml.AmplitudeEmbedding(state, wires=range(nx_qubits*ny_qubits))\n",
    "            if issample:\n",
    "                return qml.sample(wires=ini)\n",
    "            else:\n",
    "                return qml.state()\n",
    "        measure_out = measure_circuit(True)\n",
    "        if measure_out == 1:\n",
    "            print(\"The PCR test of person \",ini,\" is \",\"Positive.\")\n",
    "        else:\n",
    "            print(\"The PCR test of person \",ini,\" is \",\"Negative.\")\n",
    "        states = measure_circuit(False)\n",
    "        aft_meas = []\n",
    "        j =nx_qubits*ny_qubits - 1 - ini\n",
    "        for i, st in enumerate(states):\n",
    "            indx = int((i % (2**(j+1)))/2**j)\n",
    "            if measure_out == indx:\n",
    "                aft_meas.append(st)\n",
    "            else :\n",
    "                aft_meas.append(0)\n",
    "        dev5 = qml.device(\"default.qubit\",wires=range(nx_qubits*ny_qubits))\n",
    "        @qml.qnode(dev5)\n",
    "        def re_input_circuit():\n",
    "            qml.AmplitudeEmbedding(aft_meas, wires=range(nx_qubits*ny_qubits),normalize=True)\n",
    "            return qml.state()\n",
    "        return re_input_circuit()\n",
    "            \n",
    "        "
   ]
  },
  {
   "cell_type": "code",
   "execution_count": 12,
   "metadata": {},
   "outputs": [
    {
     "name": "stdout",
     "output_type": "stream",
     "text": [
      "number of columns:3\n",
      "number of rows:3\n",
      "level:1\n",
      "Quandemic!! It's time to rescue human\n",
      "pairs of infection:2 1\n"
     ]
    },
    {
     "ename": "IndexError",
     "evalue": "list index out of range",
     "output_type": "error",
     "traceback": [
      "\u001b[0;31m---------------------------------------------------------------------------\u001b[0m",
      "\u001b[0;31mIndexError\u001b[0m                                Traceback (most recent call last)",
      "\u001b[0;32m<ipython-input-12-680d01446146>\u001b[0m in \u001b[0;36m<module>\u001b[0;34m\u001b[0m\n\u001b[1;32m     14\u001b[0m         \u001b[0;32mfor\u001b[0m \u001b[0mswap\u001b[0m \u001b[0;32min\u001b[0m \u001b[0mswaps\u001b[0m\u001b[0;34m:\u001b[0m\u001b[0;34m\u001b[0m\u001b[0;34m\u001b[0m\u001b[0m\n\u001b[1;32m     15\u001b[0m             \u001b[0mi\u001b[0m \u001b[0;34m=\u001b[0m \u001b[0mlist\u001b[0m\u001b[0;34m(\u001b[0m\u001b[0mmap\u001b[0m\u001b[0;34m(\u001b[0m\u001b[0mint\u001b[0m\u001b[0;34m,\u001b[0m\u001b[0mswap\u001b[0m\u001b[0;34m.\u001b[0m\u001b[0msplit\u001b[0m\u001b[0;34m(\u001b[0m\u001b[0;34m','\u001b[0m\u001b[0;34m)\u001b[0m\u001b[0;34m)\u001b[0m\u001b[0;34m)\u001b[0m\u001b[0;34m[\u001b[0m\u001b[0;36m0\u001b[0m\u001b[0;34m]\u001b[0m\u001b[0;34m\u001b[0m\u001b[0;34m\u001b[0m\u001b[0m\n\u001b[0;32m---> 16\u001b[0;31m             \u001b[0mj\u001b[0m \u001b[0;34m=\u001b[0m \u001b[0mlist\u001b[0m\u001b[0;34m(\u001b[0m\u001b[0mmap\u001b[0m\u001b[0;34m(\u001b[0m\u001b[0mint\u001b[0m\u001b[0;34m,\u001b[0m\u001b[0mswap\u001b[0m\u001b[0;34m.\u001b[0m\u001b[0msplit\u001b[0m\u001b[0;34m(\u001b[0m\u001b[0;34m','\u001b[0m\u001b[0;34m)\u001b[0m\u001b[0;34m)\u001b[0m\u001b[0;34m)\u001b[0m\u001b[0;34m[\u001b[0m\u001b[0;36m1\u001b[0m\u001b[0;34m]\u001b[0m\u001b[0;34m\u001b[0m\u001b[0;34m\u001b[0m\u001b[0m\n\u001b[0m\u001b[1;32m     17\u001b[0m             \u001b[0;32mif\u001b[0m \u001b[0mnp\u001b[0m\u001b[0;34m.\u001b[0m\u001b[0mabs\u001b[0m\u001b[0;34m(\u001b[0m\u001b[0mi\u001b[0m\u001b[0;34m-\u001b[0m\u001b[0mj\u001b[0m\u001b[0;34m)\u001b[0m \u001b[0;34m==\u001b[0m \u001b[0mnx_qubits\u001b[0m \u001b[0;32mor\u001b[0m \u001b[0mnp\u001b[0m\u001b[0;34m.\u001b[0m\u001b[0mabs\u001b[0m\u001b[0;34m(\u001b[0m\u001b[0mi\u001b[0m\u001b[0;34m-\u001b[0m\u001b[0mj\u001b[0m\u001b[0;34m)\u001b[0m \u001b[0;34m==\u001b[0m \u001b[0;36m1\u001b[0m \u001b[0;32mand\u001b[0m \u001b[0;32mnot\u001b[0m \u001b[0;34m(\u001b[0m\u001b[0mi\u001b[0m\u001b[0;34m+\u001b[0m\u001b[0mj\u001b[0m\u001b[0;34m+\u001b[0m\u001b[0;36m1\u001b[0m\u001b[0;34m)\u001b[0m\u001b[0;34m%\u001b[0m\u001b[0;34m(\u001b[0m\u001b[0;36m2\u001b[0m\u001b[0;34m*\u001b[0m\u001b[0mnx_qubits\u001b[0m\u001b[0;34m)\u001b[0m \u001b[0;34m==\u001b[0m \u001b[0;36m0\u001b[0m\u001b[0;34m:\u001b[0m\u001b[0;34m\u001b[0m\u001b[0;34m\u001b[0m\u001b[0m\n\u001b[1;32m     18\u001b[0m                 \u001b[0;32mpass\u001b[0m\u001b[0;34m\u001b[0m\u001b[0;34m\u001b[0m\u001b[0m\n",
      "\u001b[0;31mIndexError\u001b[0m: list index out of range"
     ]
    }
   ],
   "source": [
    "#INPUT AND OUTPUT\n",
    "nx_qubits = int(input(\"number of columns:\"))\n",
    "ny_qubits = int(input(\"number of rows:\"))\n",
    "level = int(input(\"level:\"))\n",
    "ini_bool = -1\n",
    "ini_result = game(nx_qubits,ny_qubits,level,ini_bool)\n",
    "print(\"Quandemic!! It's time to rescue human\")\n",
    "progress = True\n",
    "can_total_survey = True\n",
    "while progress:\n",
    "    swaps = input(\"pairs of infection:\").split()\n",
    "    swap_test = True\n",
    "    while swap_test:\n",
    "        for swap in swaps:\n",
    "            i = list(map(int,swap.split(',')))[0]\n",
    "            j = list(map(int,swap.split(',')))[1]\n",
    "            if np.abs(i-j) == nx_qubits or np.abs(i-j) == 1 and not (i+j+1)%(2*nx_qubits) == 0:\n",
    "                pass\n",
    "            else:\n",
    "                print(\"You may insert invalid pairs of infection. Retry.\")\n",
    "                swaps = input(\"pairs of infection:\").split()\n",
    "                swap_test = True\n",
    "                break\n",
    "            swap_test = False\n",
    "    hospital = list(map(int,input(\"select the hospitals:\").split()))\n",
    "    hospital_test = True\n",
    "    while hospital_test:\n",
    "        for hos in hospital:\n",
    "            if hos == (nx_qubits*ny_qubits-1)/2 or hos in range(nx_qubits) or hos in range(nx_qubits*ny_qubits-nx_qubits,nx_qubits*ny_qubits) or hos in range(0,nx_qubits*ny_qubits,nx_qubits) or hos in range(nx_qubits-1,nx_qubits*ny_qubits,nx_qubits):\n",
    "                pass\n",
    "            else:\n",
    "                print(\"You may insert invalid hospitals. Retry.\")\n",
    "                hospital = map(int,input(\"select the hospitals:\").split())\n",
    "                hospital_test = True\n",
    "                break\n",
    "            hospital_test = False\n",
    "    game_card = {}\n",
    "    game_card['SWAP'] = swaps\n",
    "    game_card['hospital'] = hospital\n",
    "    ini_bool = -2\n",
    "    ini_result = game(nx_qubits,ny_qubits,level,ini_bool,ini_result,game_card)\n",
    "    ini_bool = int(input(\"Who wants to get pcr?:\")) # ini_bool for index of person who gets PCR test\n",
    "    ini_result = game(nx_qubits,ny_qubits,level,ini_bool,ini_result)\n",
    "    if can_total_survey:\n",
    "        total_survey = int(input(\"You have a chance to test all people. Do you want to use the chance?:\"))\n",
    "        if total_survey==1:\n",
    "            ini_result = game(nx_qubits,ny_qubits,level,-4,ini_result)\n",
    "            can_total_survey = False\n",
    "    apocalyptic = np.abs(int(input(\"Would you like to check out the result?:\"))-1)\n",
    "    if apocalyptic == 0:\n",
    "        print(game(nx_qubits,ny_qubits,level,-3,ini_result))\n",
    "    progress = apocalyptic"
   ]
  },
  {
   "cell_type": "code",
   "execution_count": null,
   "metadata": {},
   "outputs": [],
   "source": []
  }
 ],
 "metadata": {
  "kernelspec": {
   "display_name": "Python 3",
   "language": "python",
   "name": "python3"
  },
  "language_info": {
   "codemirror_mode": {
    "name": "ipython",
    "version": 3
   },
   "file_extension": ".py",
   "mimetype": "text/x-python",
   "name": "python",
   "nbconvert_exporter": "python",
   "pygments_lexer": "ipython3",
   "version": "3.8.10"
  },
  "varInspector": {
   "cols": {
    "lenName": 16,
    "lenType": 16,
    "lenVar": 40
   },
   "kernels_config": {
    "python": {
     "delete_cmd_postfix": "",
     "delete_cmd_prefix": "del ",
     "library": "var_list.py",
     "varRefreshCmd": "print(var_dic_list())"
    },
    "r": {
     "delete_cmd_postfix": ") ",
     "delete_cmd_prefix": "rm(",
     "library": "var_list.r",
     "varRefreshCmd": "cat(var_dic_list()) "
    }
   },
   "types_to_exclude": [
    "module",
    "function",
    "builtin_function_or_method",
    "instance",
    "_Feature"
   ],
   "window_display": false
  }
 },
 "nbformat": 4,
 "nbformat_minor": 4
}
